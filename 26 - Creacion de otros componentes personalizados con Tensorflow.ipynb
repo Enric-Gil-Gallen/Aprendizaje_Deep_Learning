{
 "cells": [
  {
   "cell_type": "markdown",
   "metadata": {},
   "source": [
    "# Creación de otros componentes que forman parte del modelo"
   ]
  },
  {
   "cell_type": "markdown",
   "metadata": {},
   "source": [
    "La gran parte de los componentes que forman parte de la arquitectura de la red neuronal artificial pueden sustituirse por componentes personalizados de la misma forma"
   ]
  },
  {
   "cell_type": "code",
   "execution_count": 1,
   "metadata": {},
   "outputs": [
    {
     "data": {
      "text/plain": [
       "'2.14.0'"
      ]
     },
     "execution_count": 1,
     "metadata": {},
     "output_type": "execute_result"
    }
   ],
   "source": [
    "import tensorflow as tf\n",
    "from tensorflow.keras import models\n",
    "from tensorflow.keras import layers\n",
    "\n",
    "tf.__version__"
   ]
  },
  {
   "cell_type": "code",
   "execution_count": 2,
   "metadata": {},
   "outputs": [],
   "source": [
    "# Función de activación personalizada\n",
    "def my_softplus(z):\n",
    "    return tf.math.log(tf.exp(z) + 1.0)\n",
    "\n",
    "# Función de inicialización personalizada\n",
    "def my_glorot_initializer(shape, dtype=tf.float32):\n",
    "    stddev = tf.sqrt(2. / (shape[0] + shape[1]))\n",
    "    return tf.random.normal(shape, stddev=stddev, dtype=dtype)\n",
    "\n",
    "# Función de regularización personalizada\n",
    "def my_l1_regularizer(weights):\n",
    "    return tf.reduce_sum(tf.abs(0.01 * weights))\n",
    "\n",
    "# Restricción personalizada aplicada al valor de los parámetros de una capa\n",
    "def my_positive_weights(weights):\n",
    "    return tf.where(weights < 0., tf.zeros_like(weights), weights)"
   ]
  },
  {
   "cell_type": "code",
   "execution_count": 3,
   "metadata": {},
   "outputs": [],
   "source": [
    "from tensorflow import keras\n",
    "\n",
    "# Definición de una capa de la red neuronal con los componentes personalizados\n",
    "layer = keras.layers.Dense(1, activation=my_softplus,\n",
    "                           kernel_initializer=my_glorot_initializer,\n",
    "                           kernel_regularizer=my_l1_regularizer,\n",
    "                           kernel_constraint=my_positive_weights)"
   ]
  },
  {
   "cell_type": "code",
   "execution_count": 4,
   "metadata": {},
   "outputs": [
    {
     "ename": "NameError",
     "evalue": "name 'X_train' is not defined",
     "output_type": "error",
     "traceback": [
      "\u001b[1;31m---------------------------------------------------------------------------\u001b[0m",
      "\u001b[1;31mNameError\u001b[0m                                 Traceback (most recent call last)",
      "\u001b[1;32mc:\\Users\\enric\\Documents\\1 - Inteligencia Artificial\\Curso_Deep_Learning\\26 - Creacion de otros componentes personalizados con Tensorflow.ipynb Celda 6\u001b[0m line \u001b[0;36m3\n\u001b[0;32m      <a href='vscode-notebook-cell:/c%3A/Users/enric/Documents/1%20-%20Inteligencia%20Artificial/Curso_Deep_Learning/26%20-%20Creacion%20de%20otros%20componentes%20personalizados%20con%20Tensorflow.ipynb#W5sZmlsZQ%3D%3D?line=0'>1</a>\u001b[0m network \u001b[39m=\u001b[39m models\u001b[39m.\u001b[39mSequential()\n\u001b[1;32m----> <a href='vscode-notebook-cell:/c%3A/Users/enric/Documents/1%20-%20Inteligencia%20Artificial/Curso_Deep_Learning/26%20-%20Creacion%20de%20otros%20componentes%20personalizados%20con%20Tensorflow.ipynb#W5sZmlsZQ%3D%3D?line=2'>3</a>\u001b[0m network\u001b[39m.\u001b[39madd(layers\u001b[39m.\u001b[39mDense(\u001b[39m30\u001b[39m, activation\u001b[39m=\u001b[39m\u001b[39m'\u001b[39m\u001b[39mrelu\u001b[39m\u001b[39m'\u001b[39m, input_shape\u001b[39m=\u001b[39mX_train\u001b[39m.\u001b[39mshape[\u001b[39m1\u001b[39m:]))\n\u001b[0;32m      <a href='vscode-notebook-cell:/c%3A/Users/enric/Documents/1%20-%20Inteligencia%20Artificial/Curso_Deep_Learning/26%20-%20Creacion%20de%20otros%20componentes%20personalizados%20con%20Tensorflow.ipynb#W5sZmlsZQ%3D%3D?line=3'>4</a>\u001b[0m network\u001b[39m.\u001b[39madd(layers\u001b[39m.\u001b[39mDense(\u001b[39m10\u001b[39m, activation\u001b[39m=\u001b[39m\u001b[39m'\u001b[39m\u001b[39mrelu\u001b[39m\u001b[39m'\u001b[39m))\n\u001b[0;32m      <a href='vscode-notebook-cell:/c%3A/Users/enric/Documents/1%20-%20Inteligencia%20Artificial/Curso_Deep_Learning/26%20-%20Creacion%20de%20otros%20componentes%20personalizados%20con%20Tensorflow.ipynb#W5sZmlsZQ%3D%3D?line=4'>5</a>\u001b[0m network\u001b[39m.\u001b[39madd(layers\u001b[39m.\u001b[39mDense(\u001b[39m1\u001b[39m, activation\u001b[39m=\u001b[39mmy_softplus,\n\u001b[0;32m      <a href='vscode-notebook-cell:/c%3A/Users/enric/Documents/1%20-%20Inteligencia%20Artificial/Curso_Deep_Learning/26%20-%20Creacion%20de%20otros%20componentes%20personalizados%20con%20Tensorflow.ipynb#W5sZmlsZQ%3D%3D?line=5'>6</a>\u001b[0m                          kernel_initializer\u001b[39m=\u001b[39mmy_glorot_initializer,\n\u001b[0;32m      <a href='vscode-notebook-cell:/c%3A/Users/enric/Documents/1%20-%20Inteligencia%20Artificial/Curso_Deep_Learning/26%20-%20Creacion%20de%20otros%20componentes%20personalizados%20con%20Tensorflow.ipynb#W5sZmlsZQ%3D%3D?line=6'>7</a>\u001b[0m                          kernel_regularizer\u001b[39m=\u001b[39mmy_l1_regularizer,\n\u001b[0;32m      <a href='vscode-notebook-cell:/c%3A/Users/enric/Documents/1%20-%20Inteligencia%20Artificial/Curso_Deep_Learning/26%20-%20Creacion%20de%20otros%20componentes%20personalizados%20con%20Tensorflow.ipynb#W5sZmlsZQ%3D%3D?line=7'>8</a>\u001b[0m                          kernel_constraint\u001b[39m=\u001b[39mmy_positive_weights))\n",
      "\u001b[1;31mNameError\u001b[0m: name 'X_train' is not defined"
     ]
    }
   ],
   "source": [
    "network = models.Sequential()\n",
    "\n",
    "network.add(layers.Dense(30, activation='relu', input_shape=X_train.shape[1:]))\n",
    "network.add(layers.Dense(10, activation='relu'))\n",
    "network.add(layers.Dense(1, activation=my_softplus,\n",
    "                         kernel_initializer=my_glorot_initializer,\n",
    "                         kernel_regularizer=my_l1_regularizer,\n",
    "                         kernel_constraint=my_positive_weights))"
   ]
  },
  {
   "cell_type": "markdown",
   "metadata": {},
   "source": [
    "En el caso de que la funcion contenga parametros que queremos almacenar/guardar junto al modelo, la mejor forma es crear una subclase de _tf.keras.*_"
   ]
  },
  {
   "cell_type": "code",
   "execution_count": null,
   "metadata": {},
   "outputs": [],
   "source": [
    "# Función de regularización personalizada\n",
    "class MyL1Regularizer(tf.keras.regularizers.Regularizer):\n",
    "    def __init__(self, factor):\n",
    "        self.factor = factor\n",
    "    def __call__(self, weights):\n",
    "        return tf.reduce_sum(tf.abs(self.factor * weights))\n",
    "    def get_config(self):\n",
    "        return {\"factor\": self.factor}"
   ]
  },
  {
   "cell_type": "code",
   "execution_count": null,
   "metadata": {},
   "outputs": [],
   "source": [
    "network = models.Sequential()\n",
    "\n",
    "network.add(layers.Dense(30, activation='relu', input_shape=X_train.shape[1:]))\n",
    "network.add(layers.Dense(10, activation='relu'))\n",
    "network.add(layers.Dense(1, activation=my_softplus,\n",
    "                         kernel_initializer=my_glorot_initializer,\n",
    "                         kernel_regularizer=MyL1Regularizer(0.01),\n",
    "                         kernel_constraint=my_positive_weights))"
   ]
  },
  {
   "cell_type": "code",
   "execution_count": null,
   "metadata": {},
   "outputs": [],
   "source": [
    "network.save(\"modelos/26/modelo_personalizado.h5\")"
   ]
  },
  {
   "cell_type": "code",
   "execution_count": null,
   "metadata": {},
   "outputs": [],
   "source": [
    "# Cargamos el modelo previamente almacenado en disco\n",
    "model = keras.models.load_model(\n",
    "    \"modelos/26/modelo_personalizado.h5\",\n",
    "    custom_objects={\n",
    "       \"MyL1Regularizer\": MyL1Regularizer,\n",
    "       \"my_positive_weights\": my_positive_weights,\n",
    "       \"my_glorot_initializer\": my_glorot_initializer,\n",
    "       \"my_softplus\": my_softplus,\n",
    "    })"
   ]
  },
  {
   "cell_type": "markdown",
   "metadata": {},
   "source": [
    "# Metricas personalizadas"
   ]
  },
  {
   "cell_type": "markdown",
   "metadata": {},
   "source": [
    "Se utilizan exactamente igual que todos los componentes vistos anteriormente"
   ]
  },
  {
   "cell_type": "code",
   "execution_count": null,
   "metadata": {},
   "outputs": [],
   "source": [
    "network.compile(loss=\"mse\", optimizer=\"sgd\", metrics=[create_huber(2.0)])"
   ]
  },
  {
   "cell_type": "code",
   "execution_count": null,
   "metadata": {},
   "outputs": [],
   "source": []
  }
 ],
 "metadata": {
  "kernelspec": {
   "display_name": "Python 3",
   "language": "python",
   "name": "python3"
  },
  "language_info": {
   "codemirror_mode": {
    "name": "ipython",
    "version": 3
   },
   "file_extension": ".py",
   "mimetype": "text/x-python",
   "name": "python",
   "nbconvert_exporter": "python",
   "pygments_lexer": "ipython3",
   "version": "3.11.5"
  }
 },
 "nbformat": 4,
 "nbformat_minor": 4
}
